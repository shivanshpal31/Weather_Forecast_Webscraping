{
 "cells": [
  {
   "cell_type": "code",
   "execution_count": 3,
   "id": "098ea31e-433c-41f4-8523-4396f3000120",
   "metadata": {},
   "outputs": [],
   "source": [
    "# Importing Packages\n",
    "from bs4 import BeautifulSoup\n",
    "import requests\n",
    "import pandas as pd\n",
    "import numpy as np"
   ]
  },
  {
   "cell_type": "code",
   "execution_count": 4,
   "id": "2ed45f35-17a8-423a-8cd6-7a4198578c3e",
   "metadata": {},
   "outputs": [],
   "source": [
    "# Defining URL and Header for requesting website\n",
    "URL=\"https://www.weather-forecast.com/countries/India-1\"\n",
    "HEADERS = ({'User-Agent':'Mozilla/5.0 (Windows NT 10.0; Win64; x64) AppleWebKit/537.36 (KHTML, like Gecko) Chrome/126.0.0.0 Safari/537.36', 'Accept-Language': 'en-US, en;q=0.5'})"
   ]
  },
  {
   "cell_type": "code",
   "execution_count": 5,
   "id": "cde7758a-45d4-4c1a-a2fc-584b8057ea7a",
   "metadata": {},
   "outputs": [],
   "source": [
    "#Functions for extracting Data\n",
    "\n",
    "#For City Name\n",
    "def get_city_name(soup):\n",
    "    element = soup.find(\"li\", attrs={\"class\": \"current\"})\n",
    "    if element:\n",
    "        return element\n",
    "    else:\n",
    "        return \"Item not found\"\n",
    "\n",
    "#For Brief Report\n",
    "def get_olrepo(soup):\n",
    "    element = soup.find(\"div\", attrs={\"class\": \"description__text\"})\n",
    "    if element:\n",
    "        return element\n",
    "    else:\n",
    "        return \"Item not found\"\n",
    "\n",
    "#For Day Wise Report\n",
    "def get_daysWiseData(soup):\n",
    "    element = soup.find_all(\"p\", attrs={\"class\": \"b-forecast__table-description-content\"})\n",
    "    if element:\n",
    "        return element\n",
    "    else:\n",
    "        return \"Item not found\""
   ]
  },
  {
   "cell_type": "code",
   "execution_count": 7,
   "id": "647d0f0d-9e9f-4879-a739-7e698c8da06b",
   "metadata": {},
   "outputs": [],
   "source": [
    "# Requesting Webpage and storing in webpage named variable\n",
    "webpage = requests.get(URL, headers = HEADERS)\n",
    "\n",
    "#Converting the bytes data into html form data by using BeautifulSoup package\n",
    "soup = BeautifulSoup(webpage.content, \"html.parser\")\n",
    "# soup"
   ]
  },
  {
   "cell_type": "code",
   "execution_count": 8,
   "id": "a647eb2a-444c-4850-b50c-a860f5d89ad2",
   "metadata": {},
   "outputs": [],
   "source": [
    "links = soup.find_all(\"span\", attrs={\"class\": \"b-list-table__item-name\"})\n",
    "links_list=[]\n",
    "# We are have storing all the in links_list named list as string\n",
    "for link in links:\n",
    "    val = link.find(\"a\",href=True)['href']\n",
    "    links_list.append(str(val))\n"
   ]
  },
  {
   "cell_type": "code",
   "execution_count": 1,
   "id": "a187d621-253b-4f28-841e-58ca8d978734",
   "metadata": {},
   "outputs": [],
   "source": [
    "#Creating a dictionary to store result \n",
    "dictionary = {\"city\":[], \"olrepo\":[], \"oneToThreeDays\": [], \"fourToSevenDays\": [], \"sevenToTenDays\": [], \"nextWeek\": []}"
   ]
  },
  {
   "cell_type": "code",
   "execution_count": 10,
   "id": "c8348a3e-05be-483e-bc9b-13aa44d980ee",
   "metadata": {},
   "outputs": [
    {
     "name": "stdout",
     "output_type": "stream",
     "text": [
      "{'city': ['Mumbai', 'Delhi', 'Bengaluru', 'Kolkata', 'Chennai', 'Ahmedabad', 'Hyderabad', 'Pune', 'Kanpur', 'Jaipur'], 'olrepo': ['Mumbai Weather Forecast. Providing a local hourly Mumbai weather forecast of rain, sun, wind, humidity and temperature. The Long-range 12 day forecast also includes detail for Mumbai weather today. Live weather reports from Mumbai weather stations and weather warnings that include risk of thunder, high UV index and forecast gales. See the links below the 12-day Mumbai weather forecast table for other cities and towns nearby along with weather conditions for local outdoor activities.Mumbai is  5\\u2009m  above sea level and located at 18.93° N 72.85° E. Mumbai has a population of 12691836. Local time in Mumbai is  IST.Read More', 'Delhi Weather Forecast. Providing a local hourly Delhi weather forecast of rain, sun, wind, humidity and temperature. The Long-range 12 day forecast also includes detail for Delhi weather today. Live weather reports from Delhi weather stations and weather warnings that include risk of thunder, high UV index and forecast gales. See the links below the 12-day Delhi weather forecast table for other cities and towns nearby along with weather conditions for local outdoor activities.Delhi is  210\\u2009m  above sea level and located at 28.67° N 77.23° E. Delhi has a population of 10927986. Local time in Delhi is  IST.Read More', 'Bengaluru Weather Forecast. Providing a local hourly Bengaluru weather forecast of rain, sun, wind, humidity and temperature. The Long-range 12 day forecast also includes detail for Bengaluru weather today. Live weather reports from Bengaluru weather stations and weather warnings that include risk of thunder, high UV index and forecast gales. See the links below the 12-day Bengaluru weather forecast table for other cities and towns nearby along with weather conditions for local outdoor activities.Bengaluru is  909\\u2009m  above sea level and located at 12.97° N 77.58° E. Bengaluru has a population of 5104047. Local time in Bengaluru is  IST.Read More', 'Kolkata Weather Forecast. Providing a local hourly Kolkata weather forecast of rain, sun, wind, humidity and temperature. The Long-range 12 day forecast also includes detail for Kolkata weather today. Live weather reports from Kolkata weather stations and weather warnings that include risk of thunder, high UV index and forecast gales. See the links below the 12-day Kolkata weather forecast table for other cities and towns nearby along with weather conditions for local outdoor activities.Kolkata is  11\\u2009m  above sea level and located at 22.50° N 88.33° E. Kolkata has a population of 4631392. Local time in Kolkata is  IST.Read More', 'Chennai Weather Forecast. Providing a local hourly Chennai weather forecast of rain, sun, wind, humidity and temperature. The Long-range 12 day forecast also includes detail for Chennai weather today. Live weather reports from Chennai weather stations and weather warnings that include risk of thunder, high UV index and forecast gales. See the links below the 12-day Chennai weather forecast table for other cities and towns nearby along with weather conditions for local outdoor activities.Chennai is  12\\u2009m  above sea level and located at 13.08° N 80.28° E. Chennai has a population of 4328063. Local time in Chennai is  IST.Read More', 'Ahmedabad Weather Forecast. Providing a local hourly Ahmedabad weather forecast of rain, sun, wind, humidity and temperature. The Long-range 12 day forecast also includes detail for Ahmedabad weather today. Live weather reports from Ahmedabad weather stations and weather warnings that include risk of thunder, high UV index and forecast gales. See the links below the 12-day Ahmedabad weather forecast table for other cities and towns nearby along with weather conditions for local outdoor activities.Ahmedabad is  71\\u2009m  above sea level and located at 23.07° N 72.63° E. Ahmedabad has a population of 3719710. Local time in Ahmedabad is  IST.Read More', 'Hyderabad Weather Forecast. Providing a local hourly Hyderabad weather forecast of rain, sun, wind, humidity and temperature. The Long-range 12 day forecast also includes detail for Hyderabad weather today. Live weather reports from Hyderabad weather stations and weather warnings that include risk of thunder, high UV index and forecast gales. See the links below the 12-day Hyderabad weather forecast table for other cities and towns nearby along with weather conditions for local outdoor activities.Hyderabad is  497\\u2009m  above sea level and located at 17.37° N 78.43° E. Hyderabad has a population of 3597816. Local time in Hyderabad is  IST.Read More', 'Pune (Mahārāshtra) Weather Forecast. Providing a local hourly Pune (Mahārāshtra) weather forecast of rain, sun, wind, humidity and temperature. The Long-range 12 day forecast also includes detail for Pune (Mahārāshtra) weather today. Live weather reports from Pune (Mahārāshtra) weather stations and weather warnings that include risk of thunder, high UV index and forecast gales. See the links below the 12-day Pune (Mahārāshtra) weather forecast table for other cities and towns nearby along with weather conditions for local outdoor activities.Pune (Mahārāshtra) is  593\\u2009m  above sea level and located at 18.52° N 73.86° E. Pune (Mahārāshtra) has a population of 2935744. Local time in Pune (Mahārāshtra) is  IST.Read More', 'Kanpur Weather Forecast. Providing a local hourly Kanpur weather forecast of rain, sun, wind, humidity and temperature. The Long-range 12 day forecast also includes detail for Kanpur weather today. Live weather reports from Kanpur weather stations and weather warnings that include risk of thunder, high UV index and forecast gales. See the links below the 12-day Kanpur weather forecast table for other cities and towns nearby along with weather conditions for local outdoor activities.Kanpur is  123\\u2009m  above sea level and located at 26.45° N 80.23° E. Kanpur has a population of 2823249. Local time in Kanpur is  IST.Read More', 'Jaipur Weather Forecast. Providing a local hourly Jaipur weather forecast of rain, sun, wind, humidity and temperature. The Long-range 12 day forecast also includes detail for Jaipur weather today. Live weather reports from Jaipur weather stations and weather warnings that include risk of thunder, high UV index and forecast gales. See the links below the 12-day Jaipur weather forecast table for other cities and towns nearby along with weather conditions for local outdoor activities.Jaipur is  438\\u2009m  above sea level and located at 26.88° N 75.83° E. Jaipur has a population of 2711758. Local time in Jaipur is  IST.Read More'], 'oneToThreeDays': ['Heavy rain (total 117mm), heaviest during Wed night. Warm (max 30°C on Wed afternoon, min 27°C on Fri night). Mainly fresh winds.', 'Moderate rain (total 15mm), heaviest on Thu afternoon. Warm (max 38°C on Wed afternoon, min 31°C on Fri night). Wind will be generally light.', 'Light rain (total 2.1mm), mostly falling on Wed afternoon. Warm (max 26°C on Wed afternoon, min 20°C on Thu night). Mainly fresh winds.', 'Light rain (total 8mm), mostly falling on Thu afternoon. Warm (max 35°C on Wed afternoon, min 29°C on Thu night). Wind will be generally light.', 'Some drizzle, heaviest during Wed afternoon. Warm (max 35°C on Fri afternoon, min 29°C on Thu night). Mainly fresh winds.', 'Moderate rain (total 19mm), heaviest on Thu night. Warm (max 36°C on Wed afternoon, min 28°C on Fri night). Wind will be generally light.', 'Heavy rain (total 29mm), heaviest during Thu morning. Warm (max 29°C on Wed afternoon, min 24°C on Thu night). Mainly fresh winds.', 'Heavy rain (total 59mm), heaviest during Thu night. Warm (max 27°C on Wed afternoon, min 23°C on Thu night). Wind will be generally light.', 'Moderate rain (total 17mm), heaviest on Thu morning. Warm (max 39°C on Fri afternoon, min 29°C on Sat morning). Wind will be generally light.', 'Heavy rain (total 40mm), heaviest during Fri night. Warm (max 36°C on Wed afternoon, min 28°C on Thu night). Wind will be generally light.'], 'fourToSevenDays': ['Heavy rain (total 128mm), heaviest during Mon afternoon. Warm (max 28°C on Sun afternoon, min 28°C on Sat afternoon). Mainly fresh winds.', 'Heavy rain (total 53mm), heaviest during Sun night. Warm (max 37°C on Sat afternoon, min 27°C on Mon night). Wind will be generally light.', 'Mostly dry. Warm (max 29°C on Sat afternoon, min 21°C on Mon night). Mainly fresh winds.', 'Heavy rain (total 38mm), heaviest during Mon afternoon. Warm (max 34°C on Sat afternoon, min 26°C on Mon night). Wind will be generally light.', 'Light rain (total 3.9mm), mostly falling on Sun night. Warm (max 34°C on Tue morning, min 29°C on Sat night). Winds decreasing (fresh winds from the S on Sun night, calm by Mon afternoon).', 'Heavy rain (total 23mm), heaviest during Sun night. Warm (max 34°C on Sat afternoon, min 28°C on Mon night). Wind will be generally light.', 'Light rain (total 3.2mm), mostly falling on Sun night. Warm (max 30°C on Sat afternoon, min 24°C on Mon night). Winds increasing (light winds from the WSW on Sat night, fresh winds from the W by Tue morning).', 'Moderate rain (total 13mm), heaviest on Mon afternoon. Warm (max 26°C on Sat afternoon, min 23°C on Sun night). Wind will be generally light.', 'Heavy rain (total 50mm), heaviest during Mon afternoon. Warm (max 33°C on Sat afternoon, min 27°C on Mon night). Wind will be generally light.', 'Heavy rain (total 61mm), heaviest during Sat night. Warm (max 34°C on Sun afternoon, min 27°C on Sat afternoon). Winds decreasing (fresh winds from the S on Sat afternoon, light winds from the WNW by Mon afternoon).'], 'sevenToTenDays': ['Heavy rain (total 114mm), heaviest during Fri morning. Warm (max 29°C on Wed afternoon, min 27°C on Thu night). Mainly strong winds.', 'Heavy rain (total 32mm), heaviest during Tue afternoon. Warm (max 33°C on Fri morning, min 27°C on Wed night). Wind will be generally light.', 'Light rain (total 2.4mm), mostly falling on Thu night. Warm (max 28°C on Wed afternoon, min 21°C on Thu night). Mainly fresh winds.', 'Heavy rain (total 24mm), heaviest during Tue afternoon. Warm (max 32°C on Fri morning, min 26°C on Tue night). Wind will be generally light.', 'Light rain (total 5mm), mostly falling on Thu night. Warm (max 36°C on Tue afternoon, min 28°C on Thu night). Wind will be generally light.', 'Light rain (total 3.4mm), mostly falling on Tue afternoon. Warm (max 33°C on Wed afternoon, min 28°C on Tue night). Wind will be generally light.', 'Some drizzle, heaviest during Wed afternoon. Warm (max 30°C on Tue afternoon, min 25°C on Tue night). Mainly fresh winds.', 'Light rain (total 9mm), mostly falling on Wed morning. Warm (max 24°C on Thu morning, min 23°C on Thu night). Mainly fresh winds.', 'Heavy rain (total 30mm), heaviest during Tue afternoon. Warm (max 34°C on Thu afternoon, min 27°C on Wed morning). Wind will be generally light.', 'Heavy rain (total 48mm), heaviest during Thu afternoon. Warm (max 31°C on Wed afternoon, min 27°C on Thu night). Wind will be generally light.'], 'nextWeek': ['Heavy rain (total 226mm), heaviest during Sun night. Warm (max 28°C on Sat afternoon, min 26°C on Mon morning). Mainly fresh winds.', 'Heavy rain (total 21mm), heaviest during Sun night. Warm (max 35°C on Mon afternoon, min 28°C on Sat morning). Wind will be generally light.', 'Light rain (total 4.5mm), mostly falling on Fri night. Warm (max 25°C on Fri afternoon, min 20°C on Sun night). Mainly fresh winds.', 'Heavy rain (total 23mm), heaviest during Sat night. Warm (max 32°C on Mon afternoon, min 27°C on Sat night). Wind will be generally light.', 'Light rain (total 9mm), mostly falling on Sat afternoon. Warm (max 34°C on Fri afternoon, min 25°C on Fri night). Winds increasing (calm on Fri afternoon, fresh winds from the WSW by Sun afternoon).', 'Heavy rain (total 45mm), heaviest during Fri night. Warm (max 33°C on Sun afternoon, min 27°C on Mon morning). Wind will be generally light.', 'Moderate rain (total 14mm), heaviest on Fri night. Warm (max 28°C on Fri afternoon, min 23°C on Sat night). Mainly fresh winds.', 'Heavy rain (total 60mm), heaviest during Mon morning. Warm (max 24°C on Fri afternoon, min 23°C on Sun night). Wind will be generally light.', 'Heavy rain (total 44mm), heaviest during Fri night. Warm (max 35°C on Sat afternoon, min 28°C on Fri night). Wind will be generally light.', 'Moderate rain (total 19mm), heaviest on Fri night. Warm (max 33°C on Mon afternoon, min 27°C on Fri night). Wind will be generally light.']}\n"
     ]
    }
   ],
   "source": [
    "count = 0\n",
    "#Storing only 10 result in our dictionary \n",
    "for links in links_list:\n",
    "    if count == 10:\n",
    "        break\n",
    "    new_webPage = requests.get(\"https://www.weather-forecast.com\"+links,headers = HEADERS)\n",
    "    new_soup = BeautifulSoup(new_webPage.content, \"html.parser\")\n",
    "    city = str(get_city_name(new_soup).text)\n",
    "    dictionary[\"city\"].append(city)\n",
    "    olrepo = str(get_olrepo(new_soup).text)\n",
    "    dictionary[\"olrepo\"].append(olrepo)\n",
    "    daywise = get_daysWiseData(new_soup)\n",
    "    dictionary[\"oneToThreeDays\"].append(str(daywise[0].text))\n",
    "    dictionary[\"fourToSevenDays\"].append(str(daywise[1].text))\n",
    "    dictionary[\"sevenToTenDays\"].append(str(daywise[2].text))\n",
    "    dictionary[\"nextWeek\"].append(str(daywise[3].text))\n",
    "    count+=1\n",
    "\n",
    "print(dictionary)"
   ]
  },
  {
   "cell_type": "code",
   "execution_count": 11,
   "id": "d52ac6e5-56e7-4ba3-997f-85e4a30aa99d",
   "metadata": {},
   "outputs": [],
   "source": [
    "# print(len(dictionary[\"city\"]))\n",
    "# print(len(dictionary[\"olrepo\"]))\n",
    "# print(len(dictionary[\"oneToThreeDays\"]))\n",
    "# print(len(dictionary[\"fourToSevenDays\"]))\n",
    "# print(len(dictionary[\"sevenToTenDays\"]))\n",
    "# print(len(dictionary[\"nextWeek\"]))"
   ]
  },
  {
   "cell_type": "code",
   "execution_count": 12,
   "id": "5058aeac-3c27-418a-af13-54a38b5159eb",
   "metadata": {},
   "outputs": [],
   "source": [
    "#Using Pandas we're converting the dictionary into data frame \n",
    "weatherForeCast = pd.DataFrame.from_dict(dictionary)\n",
    "#Here we're renaming the coulmn and giving the user understandable names to the column\n",
    "weatherForeCast.rename(columns={'city':\"City Name\",\n",
    "                               \"olrepo\": \"Short Report\",\n",
    "                               \"oneToThreeDays\":\"1-3 Days\",\n",
    "                               \"fourToSevenDays\":\"4-7 Days\",\n",
    "                               \"sevenToTenDays\":\"7-10 Days\",\n",
    "                               \"nextWeek\":\"Next Week\"},inplace=True)\n",
    "#We're exporting the dataframe into .csv format file with index=False which denotes it won't show default indexing.\n",
    "weatherForeCast.to_csv(\"report.csv\",index=False)"
   ]
  },
  {
   "cell_type": "code",
   "execution_count": null,
   "id": "2aecc1fe-17ef-4cb9-abaa-fa4e5d216144",
   "metadata": {},
   "outputs": [],
   "source": []
  }
 ],
 "metadata": {
  "kernelspec": {
   "display_name": "Python 3 (ipykernel)",
   "language": "python",
   "name": "python3"
  },
  "language_info": {
   "codemirror_mode": {
    "name": "ipython",
    "version": 3
   },
   "file_extension": ".py",
   "mimetype": "text/x-python",
   "name": "python",
   "nbconvert_exporter": "python",
   "pygments_lexer": "ipython3",
   "version": "3.12.4"
  }
 },
 "nbformat": 4,
 "nbformat_minor": 5
}
